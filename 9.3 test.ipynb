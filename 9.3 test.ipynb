{
 "cells": [
  {
   "cell_type": "code",
   "execution_count": null,
   "metadata": {},
   "outputs": [],
   "source": [
    "#  1、使用while循环输出 1 2 3 4 5 6     8 9 10\n",
    "\n",
    "i = 0\n",
    "while i < 10:\n",
    "    i = i+1\n",
    "    if i == 7:\n",
    "        continue\n",
    "    print(i)\n"
   ]
  },
  {
   "cell_type": "code",
   "execution_count": null,
   "metadata": {},
   "outputs": [],
   "source": [
    "# 2、求1-100的所有数的和\n",
    "\n",
    "sum = 0\n",
    "for i in range(1,101):\n",
    "    sum = sum + i\n",
    "print(sum) \n",
    "\n",
    "i = 1\n",
    "sum = 0\n",
    "while i <= 100:\n",
    "    sum = sum + i\n",
    "    i = i+1\n",
    "print(sum)"
   ]
  },
  {
   "cell_type": "code",
   "execution_count": null,
   "metadata": {},
   "outputs": [],
   "source": [
    "# 3、输出 1-100 内的所有奇数\n",
    "\n",
    "for i in range(1,100,2):\n",
    "    print(i)\n",
    "\n",
    "i = 1\n",
    "while i < 101:\n",
    "    print(i)\n",
    "    i = i+2"
   ]
  },
  {
   "cell_type": "code",
   "execution_count": null,
   "metadata": {},
   "outputs": [],
   "source": [
    "# 4、求1-2+3-4+5 ... 99的所有数的和\n",
    "sum = 0\n",
    "sum1 = 0\n",
    "for a in range(1,100,2):\n",
    "    sum = sum+a\n",
    "for b in range(0,100,2):\n",
    "    sum1 = sum1+b\n",
    "print(sum - sum1)\n"
   ]
  },
  {
   "cell_type": "code",
   "execution_count": 8,
   "metadata": {},
   "outputs": [
    {
     "name": "stdout",
     "output_type": "stream",
     "text": [
      "请重输\n",
      "请重输\n",
      "请重输\n"
     ]
    }
   ],
   "source": [
    "# 5、用户登陆（三次机会重试）\n",
    "\n",
    "i = 0\n",
    "# for i in range(3):\n",
    "while i < 3:\n",
    "    name = input(\"输入用户名：\")\n",
    "    passwd = input(\"输入密码：\")\n",
    "    if name == \"zyh\" and passwd == \"123\":\n",
    "        print(\"输入正确\")\n",
    "        break\n",
    "    else:\n",
    "        print(\"请重输\")\n",
    "        i = i+1\n",
    "\n"
   ]
  },
  {
   "cell_type": "code",
   "execution_count": null,
   "metadata": {},
   "outputs": [],
   "source": [
    "# 6、打印九九乘法表 shell python \n",
    "\n",
    "a = 1\n",
    "b = 1\n",
    "while a < 10:\n",
    "    while b <= a:\n",
    "        print(f\"{a}x{b}={a*b}\",end=\" \")\n",
    "        b = b+1\n",
    "    b = 1\n",
    "    a = a+1\n",
    "    print()\n",
    "print()\n",
    "\n",
    "for a in range(1,10):\n",
    "    for b in range(1,a+1):\n",
    "        print(f\"{a}x{b}={a*b}\",end=\" \")\n",
    "    print()\n"
   ]
  }
 ],
 "metadata": {
  "kernelspec": {
   "display_name": "Python 3",
   "language": "python",
   "name": "python3"
  },
  "language_info": {
   "codemirror_mode": {
    "name": "ipython",
    "version": 3
   },
   "file_extension": ".py",
   "mimetype": "text/x-python",
   "name": "python",
   "nbconvert_exporter": "python",
   "pygments_lexer": "ipython3",
   "version": "3.6.5"
  }
 },
 "nbformat": 4,
 "nbformat_minor": 2
}
